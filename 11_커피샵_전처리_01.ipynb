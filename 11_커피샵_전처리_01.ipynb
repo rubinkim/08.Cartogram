{
  "nbformat": 4,
  "nbformat_minor": 0,
  "metadata": {
    "colab": {
      "name": "11_커피샵_전처리_01.ipynb",
      "provenance": [],
      "collapsed_sections": []
    },
    "kernelspec": {
      "name": "python3",
      "display_name": "Python 3"
    },
    "language_info": {
      "name": "python"
    }
  },
  "cells": [
    {
      "cell_type": "code",
      "metadata": {
        "colab": {
          "base_uri": "https://localhost:8080/"
        },
        "id": "YKax_z6GnJS1",
        "outputId": "c08adfa7-ea93-4899-8b6f-b7813df4a46c"
      },
      "source": [
        "!sudo apt-get install -y fonts-nanum > /dev/null\n",
        "!sudo fc-cache -fv > /dev/null\n",
        "!rm ~/.cache/matplotlib -rf > /dev/null"
      ],
      "execution_count": null,
      "outputs": [
        {
          "output_type": "stream",
          "name": "stdout",
          "text": [
            "debconf: unable to initialize frontend: Dialog\n",
            "debconf: (No usable dialog-like program is installed, so the dialog based frontend cannot be used. at /usr/share/perl5/Debconf/FrontEnd/Dialog.pm line 76, <> line 1.)\n",
            "debconf: falling back to frontend: Readline\n",
            "debconf: unable to initialize frontend: Readline\n",
            "debconf: (This frontend requires a controlling tty.)\n",
            "debconf: falling back to frontend: Teletype\n",
            "dpkg-preconfigure: unable to re-open stdin: \n"
          ]
        }
      ]
    },
    {
      "cell_type": "code",
      "metadata": {
        "id": "8HVLgV9nnUHh"
      },
      "source": [
        "import numpy as np\n",
        "import pandas as pd\n",
        "import matplotlib as mpl\n",
        "import matplotlib.pyplot as plt\n",
        "import warnings\n",
        "warnings.filterwarnings('ignore')"
      ],
      "execution_count": null,
      "outputs": []
    },
    {
      "cell_type": "code",
      "metadata": {
        "id": "W4ZUTNHnnfmd"
      },
      "source": [
        "mpl.rcParams['axes.unicode_minus'] = False\n",
        "plt.rc('font', family='NanumBarunGothic')"
      ],
      "execution_count": null,
      "outputs": []
    },
    {
      "cell_type": "code",
      "metadata": {
        "colab": {
          "base_uri": "https://localhost:8080/"
        },
        "id": "L_zjdaufniiy",
        "outputId": "6bd7284a-a3e0-41e7-8c22-81eb35b9115f"
      },
      "source": [
        "from google.colab import drive\n",
        "drive.mount('/content/mnt')"
      ],
      "execution_count": null,
      "outputs": [
        {
          "output_type": "stream",
          "name": "stdout",
          "text": [
            "Drive already mounted at /content/mnt; to attempt to forcibly remount, call drive.mount(\"/content/mnt\", force_remount=True).\n"
          ]
        }
      ]
    },
    {
      "cell_type": "code",
      "metadata": {
        "id": "DeCsRKvpnl-h"
      },
      "source": [
        "data_folder = '/content/mnt/MyDrive/data/소상공인시장진흥공단'"
      ],
      "execution_count": null,
      "outputs": []
    },
    {
      "cell_type": "code",
      "metadata": {
        "colab": {
          "base_uri": "https://localhost:8080/"
        },
        "id": "-xlPGsPin1PP",
        "outputId": "e39802d9-94c3-4638-999d-de1b40124d41"
      },
      "source": [
        "from glob import glob\n",
        "for file in glob(f'{data_folder}/*.csv'):\n",
        "    print(file)"
      ],
      "execution_count": null,
      "outputs": [
        {
          "output_type": "stream",
          "name": "stdout",
          "text": [
            "/content/mnt/MyDrive/data/소상공인시장진흥공단/소상공인시장진흥공단_상가(상권)정보_강원_202106.csv\n",
            "/content/mnt/MyDrive/data/소상공인시장진흥공단/소상공인시장진흥공단_상가(상권)정보_경기_202106.csv\n",
            "/content/mnt/MyDrive/data/소상공인시장진흥공단/소상공인시장진흥공단_상가(상권)정보_경남_202106.csv\n",
            "/content/mnt/MyDrive/data/소상공인시장진흥공단/소상공인시장진흥공단_상가(상권)정보_광주_202106.csv\n",
            "/content/mnt/MyDrive/data/소상공인시장진흥공단/소상공인시장진흥공단_상가(상권)정보_경북_202106.csv\n",
            "/content/mnt/MyDrive/data/소상공인시장진흥공단/소상공인시장진흥공단_상가(상권)정보_대전_202106.csv\n",
            "/content/mnt/MyDrive/data/소상공인시장진흥공단/소상공인시장진흥공단_상가(상권)정보_부산_202106.csv\n",
            "/content/mnt/MyDrive/data/소상공인시장진흥공단/소상공인시장진흥공단_상가(상권)정보_대구_202106.csv\n",
            "/content/mnt/MyDrive/data/소상공인시장진흥공단/소상공인시장진흥공단_상가(상권)정보_세종_202106.csv\n",
            "/content/mnt/MyDrive/data/소상공인시장진흥공단/소상공인시장진흥공단_상가(상권)정보_서울_202106.csv\n",
            "/content/mnt/MyDrive/data/소상공인시장진흥공단/소상공인시장진흥공단_상가(상권)정보_전남_202106.csv\n",
            "/content/mnt/MyDrive/data/소상공인시장진흥공단/소상공인시장진흥공단_상가(상권)정보_인천_202106.csv\n",
            "/content/mnt/MyDrive/data/소상공인시장진흥공단/소상공인시장진흥공단_상가(상권)정보_울산_202106.csv\n",
            "/content/mnt/MyDrive/data/소상공인시장진흥공단/소상공인시장진흥공단_상가(상권)정보_제주_202106.csv\n",
            "/content/mnt/MyDrive/data/소상공인시장진흥공단/소상공인시장진흥공단_상가(상권)정보_전북_202106.csv\n",
            "/content/mnt/MyDrive/data/소상공인시장진흥공단/소상공인시장진흥공단_상가(상권)정보_충남_202106.csv\n",
            "/content/mnt/MyDrive/data/소상공인시장진흥공단/소상공인시장진흥공단_상가(상권)정보_충북_202106.csv\n"
          ]
        }
      ]
    },
    {
      "cell_type": "markdown",
      "metadata": {
        "id": "ON1hrlSjohLb"
      },
      "source": [
        "### 서울 데이터로 스타벅스,커피빈,이디야,빽다방 추출\n",
        "- 전국 데이터 추출 --> 4개 커피샵에 대한 정보 저장\n"
      ]
    },
    {
      "cell_type": "code",
      "metadata": {
        "colab": {
          "base_uri": "https://localhost:8080/"
        },
        "id": "jhYCkkI4oWx2",
        "outputId": "0a349036-f3fc-44a5-b1b5-76294dbd5a87"
      },
      "source": [
        "seoul = pd.read_csv(f'{data_folder}/소상공인시장진흥공단_상가(상권)정보_서울_202106.csv', encoding='utf-8')\n",
        "seoul = seoul[seoul.상권업종중분류코드 == 'Q12']\n",
        "seoul = seoul[['상호명','지점명','시도명','시군구명','도로명주소']]\n",
        "seoul.reset_index(drop=True, inplace=True)\n",
        "seoul.info()"
      ],
      "execution_count": null,
      "outputs": [
        {
          "output_type": "stream",
          "name": "stdout",
          "text": [
            "<class 'pandas.core.frame.DataFrame'>\n",
            "RangeIndex: 20832 entries, 0 to 20831\n",
            "Data columns (total 5 columns):\n",
            " #   Column  Non-Null Count  Dtype \n",
            "---  ------  --------------  ----- \n",
            " 0   상호명     20832 non-null  object\n",
            " 1   지점명     7431 non-null   object\n",
            " 2   시도명     20832 non-null  object\n",
            " 3   시군구명    20832 non-null  object\n",
            " 4   도로명주소   20832 non-null  object\n",
            "dtypes: object(5)\n",
            "memory usage: 813.9+ KB\n"
          ]
        }
      ]
    },
    {
      "cell_type": "code",
      "metadata": {
        "colab": {
          "base_uri": "https://localhost:8080/",
          "height": 204
        },
        "id": "bOI7M7hHpJmM",
        "outputId": "1d829198-73b9-40ad-d783-110e1b80742f"
      },
      "source": [
        "seoul.head()"
      ],
      "execution_count": null,
      "outputs": [
        {
          "output_type": "execute_result",
          "data": {
            "text/html": [
              "<div>\n",
              "<style scoped>\n",
              "    .dataframe tbody tr th:only-of-type {\n",
              "        vertical-align: middle;\n",
              "    }\n",
              "\n",
              "    .dataframe tbody tr th {\n",
              "        vertical-align: top;\n",
              "    }\n",
              "\n",
              "    .dataframe thead th {\n",
              "        text-align: right;\n",
              "    }\n",
              "</style>\n",
              "<table border=\"1\" class=\"dataframe\">\n",
              "  <thead>\n",
              "    <tr style=\"text-align: right;\">\n",
              "      <th></th>\n",
              "      <th>상호명</th>\n",
              "      <th>지점명</th>\n",
              "      <th>시도명</th>\n",
              "      <th>시군구명</th>\n",
              "      <th>도로명주소</th>\n",
              "    </tr>\n",
              "  </thead>\n",
              "  <tbody>\n",
              "    <tr>\n",
              "      <th>0</th>\n",
              "      <td>커피빈</td>\n",
              "      <td>코리아대학로대명거리점</td>\n",
              "      <td>서울특별시</td>\n",
              "      <td>종로구</td>\n",
              "      <td>서울특별시 종로구 대명길 25</td>\n",
              "    </tr>\n",
              "    <tr>\n",
              "      <th>1</th>\n",
              "      <td>요거프레소</td>\n",
              "      <td>쌍문점</td>\n",
              "      <td>서울특별시</td>\n",
              "      <td>도봉구</td>\n",
              "      <td>서울특별시 도봉구 도당로 7</td>\n",
              "    </tr>\n",
              "    <tr>\n",
              "      <th>2</th>\n",
              "      <td>메머드커피</td>\n",
              "      <td>NaN</td>\n",
              "      <td>서울특별시</td>\n",
              "      <td>마포구</td>\n",
              "      <td>서울특별시 마포구 와우산로 149</td>\n",
              "    </tr>\n",
              "    <tr>\n",
              "      <th>3</th>\n",
              "      <td>우성커피숍</td>\n",
              "      <td>NaN</td>\n",
              "      <td>서울특별시</td>\n",
              "      <td>양천구</td>\n",
              "      <td>서울특별시 양천구 오목로 48</td>\n",
              "    </tr>\n",
              "    <tr>\n",
              "      <th>4</th>\n",
              "      <td>카페클럽</td>\n",
              "      <td>NaN</td>\n",
              "      <td>서울특별시</td>\n",
              "      <td>송파구</td>\n",
              "      <td>서울특별시 송파구 동남로2길 3-6</td>\n",
              "    </tr>\n",
              "  </tbody>\n",
              "</table>\n",
              "</div>"
            ],
            "text/plain": [
              "     상호명          지점명    시도명 시군구명                도로명주소\n",
              "0    커피빈  코리아대학로대명거리점  서울특별시  종로구     서울특별시 종로구 대명길 25\n",
              "1  요거프레소          쌍문점  서울특별시  도봉구      서울특별시 도봉구 도당로 7\n",
              "2  메머드커피          NaN  서울특별시  마포구   서울특별시 마포구 와우산로 149\n",
              "3  우성커피숍          NaN  서울특별시  양천구     서울특별시 양천구 오목로 48\n",
              "4   카페클럽          NaN  서울특별시  송파구  서울특별시 송파구 동남로2길 3-6"
            ]
          },
          "metadata": {},
          "execution_count": 88
        }
      ]
    },
    {
      "cell_type": "code",
      "metadata": {
        "id": "8e0AYF6SqiDw"
      },
      "source": [
        "def identify_coffee(name):\n",
        "    if name in ['스타벅스']:\n",
        "        return '스타벅스'\n",
        "    elif name in ['커피빈']:\n",
        "        return '커피빈'\n",
        "    elif name in ['이디아']:\n",
        "        return '이디아'\n",
        "    else:\n",
        "        return '빽다방'"
      ],
      "execution_count": null,
      "outputs": []
    },
    {
      "cell_type": "code",
      "metadata": {
        "id": "bP2kG2Eop-Oi"
      },
      "source": [
        "seoul['커피체인'] = seoul.상호명.apply(lambda x : identify_coffee(x))"
      ],
      "execution_count": null,
      "outputs": []
    },
    {
      "cell_type": "code",
      "metadata": {
        "colab": {
          "base_uri": "https://localhost:8080/",
          "height": 204
        },
        "id": "e89pJCwArgRe",
        "outputId": "e5e59331-5b5b-43e7-daea-7fba2b5e68d6"
      },
      "source": [
        "seoul.head()"
      ],
      "execution_count": null,
      "outputs": [
        {
          "output_type": "execute_result",
          "data": {
            "text/html": [
              "<div>\n",
              "<style scoped>\n",
              "    .dataframe tbody tr th:only-of-type {\n",
              "        vertical-align: middle;\n",
              "    }\n",
              "\n",
              "    .dataframe tbody tr th {\n",
              "        vertical-align: top;\n",
              "    }\n",
              "\n",
              "    .dataframe thead th {\n",
              "        text-align: right;\n",
              "    }\n",
              "</style>\n",
              "<table border=\"1\" class=\"dataframe\">\n",
              "  <thead>\n",
              "    <tr style=\"text-align: right;\">\n",
              "      <th></th>\n",
              "      <th>상호명</th>\n",
              "      <th>지점명</th>\n",
              "      <th>시도명</th>\n",
              "      <th>시군구명</th>\n",
              "      <th>도로명주소</th>\n",
              "      <th>커피체인</th>\n",
              "    </tr>\n",
              "  </thead>\n",
              "  <tbody>\n",
              "    <tr>\n",
              "      <th>0</th>\n",
              "      <td>커피빈</td>\n",
              "      <td>코리아대학로대명거리점</td>\n",
              "      <td>서울특별시</td>\n",
              "      <td>종로구</td>\n",
              "      <td>서울특별시 종로구 대명길 25</td>\n",
              "      <td>커피빈</td>\n",
              "    </tr>\n",
              "    <tr>\n",
              "      <th>1</th>\n",
              "      <td>요거프레소</td>\n",
              "      <td>쌍문점</td>\n",
              "      <td>서울특별시</td>\n",
              "      <td>도봉구</td>\n",
              "      <td>서울특별시 도봉구 도당로 7</td>\n",
              "      <td>빽다방</td>\n",
              "    </tr>\n",
              "    <tr>\n",
              "      <th>2</th>\n",
              "      <td>메머드커피</td>\n",
              "      <td>NaN</td>\n",
              "      <td>서울특별시</td>\n",
              "      <td>마포구</td>\n",
              "      <td>서울특별시 마포구 와우산로 149</td>\n",
              "      <td>빽다방</td>\n",
              "    </tr>\n",
              "    <tr>\n",
              "      <th>3</th>\n",
              "      <td>우성커피숍</td>\n",
              "      <td>NaN</td>\n",
              "      <td>서울특별시</td>\n",
              "      <td>양천구</td>\n",
              "      <td>서울특별시 양천구 오목로 48</td>\n",
              "      <td>빽다방</td>\n",
              "    </tr>\n",
              "    <tr>\n",
              "      <th>4</th>\n",
              "      <td>카페클럽</td>\n",
              "      <td>NaN</td>\n",
              "      <td>서울특별시</td>\n",
              "      <td>송파구</td>\n",
              "      <td>서울특별시 송파구 동남로2길 3-6</td>\n",
              "      <td>빽다방</td>\n",
              "    </tr>\n",
              "  </tbody>\n",
              "</table>\n",
              "</div>"
            ],
            "text/plain": [
              "     상호명          지점명    시도명 시군구명                도로명주소 커피체인\n",
              "0    커피빈  코리아대학로대명거리점  서울특별시  종로구     서울특별시 종로구 대명길 25  커피빈\n",
              "1  요거프레소          쌍문점  서울특별시  도봉구      서울특별시 도봉구 도당로 7  빽다방\n",
              "2  메머드커피          NaN  서울특별시  마포구   서울특별시 마포구 와우산로 149  빽다방\n",
              "3  우성커피숍          NaN  서울특별시  양천구     서울특별시 양천구 오목로 48  빽다방\n",
              "4   카페클럽          NaN  서울특별시  송파구  서울특별시 송파구 동남로2길 3-6  빽다방"
            ]
          },
          "metadata": {},
          "execution_count": 91
        }
      ]
    },
    {
      "cell_type": "code",
      "metadata": {
        "colab": {
          "base_uri": "https://localhost:8080/"
        },
        "id": "65oU7M0Grk7L",
        "outputId": "3ecd35a0-4e17-40ea-d3a4-2521b001ba0f"
      },
      "source": [
        "len(seoul.groupby('커피체인').groups['이디아'].tolist()), seoul.groupby('커피체인').groups['이디아'].tolist()[:10]"
      ],
      "execution_count": null,
      "outputs": [
        {
          "output_type": "execute_result",
          "data": {
            "text/plain": [
              "(7, [8381, 8689, 9455, 10304, 12279, 17171, 18946])"
            ]
          },
          "metadata": {},
          "execution_count": 92
        }
      ]
    },
    {
      "cell_type": "code",
      "metadata": {
        "colab": {
          "base_uri": "https://localhost:8080/"
        },
        "id": "sqLjK6AUyfCl",
        "outputId": "e3dcded4-28b2-4c2d-8534-7f3644a2f28f"
      },
      "source": [
        "seoul.groupby('커피체인').groups.keys()"
      ],
      "execution_count": null,
      "outputs": [
        {
          "output_type": "execute_result",
          "data": {
            "text/plain": [
              "dict_keys(['빽다방', '스타벅스', '이디아', '커피빈'])"
            ]
          },
          "metadata": {},
          "execution_count": 93
        }
      ]
    },
    {
      "cell_type": "code",
      "metadata": {
        "colab": {
          "base_uri": "https://localhost:8080/",
          "height": 267
        },
        "id": "2z3t4aZprsOZ",
        "outputId": "94b14c9c-d9f5-4a0b-aeb5-9f0f285dd997"
      },
      "source": [
        "seoul.iloc[[8381, 8689, 9455, 10304, 12279, 17171, 18946],:]"
      ],
      "execution_count": null,
      "outputs": [
        {
          "output_type": "execute_result",
          "data": {
            "text/html": [
              "<div>\n",
              "<style scoped>\n",
              "    .dataframe tbody tr th:only-of-type {\n",
              "        vertical-align: middle;\n",
              "    }\n",
              "\n",
              "    .dataframe tbody tr th {\n",
              "        vertical-align: top;\n",
              "    }\n",
              "\n",
              "    .dataframe thead th {\n",
              "        text-align: right;\n",
              "    }\n",
              "</style>\n",
              "<table border=\"1\" class=\"dataframe\">\n",
              "  <thead>\n",
              "    <tr style=\"text-align: right;\">\n",
              "      <th></th>\n",
              "      <th>상호명</th>\n",
              "      <th>지점명</th>\n",
              "      <th>시도명</th>\n",
              "      <th>시군구명</th>\n",
              "      <th>도로명주소</th>\n",
              "      <th>커피체인</th>\n",
              "    </tr>\n",
              "  </thead>\n",
              "  <tbody>\n",
              "    <tr>\n",
              "      <th>8381</th>\n",
              "      <td>이디아</td>\n",
              "      <td>NaN</td>\n",
              "      <td>서울특별시</td>\n",
              "      <td>마포구</td>\n",
              "      <td>서울특별시 마포구 월드컵북로 375</td>\n",
              "      <td>이디아</td>\n",
              "    </tr>\n",
              "    <tr>\n",
              "      <th>8689</th>\n",
              "      <td>이디아</td>\n",
              "      <td>종암동점</td>\n",
              "      <td>서울특별시</td>\n",
              "      <td>성북구</td>\n",
              "      <td>서울특별시 성북구 종암로 105</td>\n",
              "      <td>이디아</td>\n",
              "    </tr>\n",
              "    <tr>\n",
              "      <th>9455</th>\n",
              "      <td>이디아</td>\n",
              "      <td>강서NC점</td>\n",
              "      <td>서울특별시</td>\n",
              "      <td>강서구</td>\n",
              "      <td>서울특별시 강서구 강서로54길 11</td>\n",
              "      <td>이디아</td>\n",
              "    </tr>\n",
              "    <tr>\n",
              "      <th>10304</th>\n",
              "      <td>이디아</td>\n",
              "      <td>구로미성점</td>\n",
              "      <td>서울특별시</td>\n",
              "      <td>구로구</td>\n",
              "      <td>서울특별시 구로구 구로중앙로 228</td>\n",
              "      <td>이디아</td>\n",
              "    </tr>\n",
              "    <tr>\n",
              "      <th>12279</th>\n",
              "      <td>이디아</td>\n",
              "      <td>NaN</td>\n",
              "      <td>서울특별시</td>\n",
              "      <td>강서구</td>\n",
              "      <td>서울특별시 강서구 가로공원로76길 61</td>\n",
              "      <td>이디아</td>\n",
              "    </tr>\n",
              "    <tr>\n",
              "      <th>17171</th>\n",
              "      <td>이디아</td>\n",
              "      <td>방배중앙점</td>\n",
              "      <td>서울특별시</td>\n",
              "      <td>서초구</td>\n",
              "      <td>서울특별시 서초구 동광로 1</td>\n",
              "      <td>이디아</td>\n",
              "    </tr>\n",
              "    <tr>\n",
              "      <th>18946</th>\n",
              "      <td>이디아</td>\n",
              "      <td>망원역점</td>\n",
              "      <td>서울특별시</td>\n",
              "      <td>마포구</td>\n",
              "      <td>서울특별시 마포구 월드컵로 82-1</td>\n",
              "      <td>이디아</td>\n",
              "    </tr>\n",
              "  </tbody>\n",
              "</table>\n",
              "</div>"
            ],
            "text/plain": [
              "       상호명    지점명    시도명 시군구명                  도로명주소 커피체인\n",
              "8381   이디아    NaN  서울특별시  마포구    서울특별시 마포구 월드컵북로 375  이디아\n",
              "8689   이디아   종암동점  서울특별시  성북구      서울특별시 성북구 종암로 105  이디아\n",
              "9455   이디아  강서NC점  서울특별시  강서구    서울특별시 강서구 강서로54길 11  이디아\n",
              "10304  이디아  구로미성점  서울특별시  구로구    서울특별시 구로구 구로중앙로 228  이디아\n",
              "12279  이디아    NaN  서울특별시  강서구  서울특별시 강서구 가로공원로76길 61  이디아\n",
              "17171  이디아  방배중앙점  서울특별시  서초구        서울특별시 서초구 동광로 1  이디아\n",
              "18946  이디아   망원역점  서울특별시  마포구    서울특별시 마포구 월드컵로 82-1  이디아"
            ]
          },
          "metadata": {},
          "execution_count": 94
        }
      ]
    },
    {
      "cell_type": "code",
      "metadata": {
        "colab": {
          "base_uri": "https://localhost:8080/"
        },
        "id": "3qUOKHlnr_ng",
        "outputId": "611641c7-4283-4123-dc8b-fddd720f2e7f"
      },
      "source": [
        "seoul_groups = seoul.groupby('커피체인').groups\n",
        "seoul_starbucks = len(seoul_groups['스타벅스']) \n",
        "seoul_coffeebean = len(seoul_groups['커피빈']) \n",
        "seoul_ediya = len(seoul_groups['이디아'])\n",
        "seoul_others = len(seoul_groups['빽다방'])\n",
        "\n",
        "print(seoul_starbucks, seoul_coffeebean, seoul_ediya, seoul_others)"
      ],
      "execution_count": null,
      "outputs": [
        {
          "output_type": "stream",
          "name": "stdout",
          "text": [
            "331 115 7 20379\n"
          ]
        }
      ]
    },
    {
      "cell_type": "markdown",
      "metadata": {
        "id": "U768A-4o_qme"
      },
      "source": [
        "### 전국 데이터"
      ]
    },
    {
      "cell_type": "code",
      "metadata": {
        "id": "2T1UAWyeAF-6"
      },
      "source": [
        "import pandas"
      ],
      "execution_count": null,
      "outputs": []
    },
    {
      "cell_type": "code",
      "metadata": {
        "id": "SN-PY1QyElnT"
      },
      "source": [
        "import re\n",
        "def find_coffee(name):\n",
        "    if re.search('스타벅스', name):\n",
        "        return '스타벅스'\n",
        "    elif re.search('커피빈', name):\n",
        "        return '커피빈'\n",
        "    elif re.search('이디야', name) or re.search('이디야', name):\n",
        "        return '이디아'\n",
        "    elif re.search('빽다방', name):\n",
        "        return '빽다방'"
      ],
      "execution_count": null,
      "outputs": []
    },
    {
      "cell_type": "code",
      "metadata": {
        "id": "r55-VPYW5yOq"
      },
      "source": [
        "def count_coffees(province):\n",
        "    df = pd.read_csv(f'{data_folder}/소상공인시장진흥공단_상가(상권)정보_{province}_202106.csv', encoding='utf-8')\n",
        "    df = df[df.상권업종중분류코드 == 'Q12']\n",
        "    df = df[['상호명','지점명','시도명','시군구명','도로명주소']]\n",
        "    df.reset_index(drop=True, inplace=True)\n",
        "    df['커피체인'] = df.상호명.apply(lambda x : find_coffee(x))\n",
        "\n",
        "    coffee_groups = df.groupby('커피체인').groups\n",
        "    \n",
        "    starbucks = 0 if '스타벅스' not in coffee_groups.keys() else len(coffee_groups['스타벅스'])\n",
        "    coffeebean = 0 if '커피빈' not in coffee_groups.keys() else len(coffee_groups['커피빈'])\n",
        "    ediya = 0 if '이디아' not in coffee_groups.keys() else len(coffee_groups['이디아']) \n",
        "    bbaek = 0 if '빽다방' not in coffee_groups.keys() else len(coffee_groups['빽다방'])\n",
        "\n",
        "    return [starbucks, coffeebean, ediya, bbaek]"
      ],
      "execution_count": null,
      "outputs": []
    },
    {
      "cell_type": "code",
      "metadata": {
        "id": "yghBGsHa9pxA"
      },
      "source": [
        "coffees = {}\n",
        "names = ['강원', '경기', '경남', '경북', '광주', '대구', '대전', '부산', '서울', '세종', '울산', '인천', '전남', '전북', '제주', '충남', '충북']\n",
        "\n",
        "for province in names:\n",
        "    coffees[province] = count_coffees(province)"
      ],
      "execution_count": null,
      "outputs": []
    },
    {
      "cell_type": "code",
      "metadata": {
        "id": "QsuR0PZy8-E0",
        "colab": {
          "base_uri": "https://localhost:8080/",
          "height": 578
        },
        "outputId": "dc8faa9e-51cc-456f-d2f5-c29802c95be9"
      },
      "source": [
        "df = pd.DataFrame(coffees, columns=coffees.keys(), index=['스타벅스','커피빈','이디아','빽다방']).T\n",
        "df "
      ],
      "execution_count": null,
      "outputs": [
        {
          "output_type": "execute_result",
          "data": {
            "text/html": [
              "<div>\n",
              "<style scoped>\n",
              "    .dataframe tbody tr th:only-of-type {\n",
              "        vertical-align: middle;\n",
              "    }\n",
              "\n",
              "    .dataframe tbody tr th {\n",
              "        vertical-align: top;\n",
              "    }\n",
              "\n",
              "    .dataframe thead th {\n",
              "        text-align: right;\n",
              "    }\n",
              "</style>\n",
              "<table border=\"1\" class=\"dataframe\">\n",
              "  <thead>\n",
              "    <tr style=\"text-align: right;\">\n",
              "      <th></th>\n",
              "      <th>스타벅스</th>\n",
              "      <th>커피빈</th>\n",
              "      <th>이디아</th>\n",
              "      <th>빽다방</th>\n",
              "    </tr>\n",
              "  </thead>\n",
              "  <tbody>\n",
              "    <tr>\n",
              "      <th>강원</th>\n",
              "      <td>40</td>\n",
              "      <td>2</td>\n",
              "      <td>88</td>\n",
              "      <td>12</td>\n",
              "    </tr>\n",
              "    <tr>\n",
              "      <th>경기</th>\n",
              "      <td>353</td>\n",
              "      <td>56</td>\n",
              "      <td>564</td>\n",
              "      <td>175</td>\n",
              "    </tr>\n",
              "    <tr>\n",
              "      <th>경남</th>\n",
              "      <td>64</td>\n",
              "      <td>10</td>\n",
              "      <td>126</td>\n",
              "      <td>23</td>\n",
              "    </tr>\n",
              "    <tr>\n",
              "      <th>경북</th>\n",
              "      <td>57</td>\n",
              "      <td>7</td>\n",
              "      <td>100</td>\n",
              "      <td>20</td>\n",
              "    </tr>\n",
              "    <tr>\n",
              "      <th>광주</th>\n",
              "      <td>56</td>\n",
              "      <td>5</td>\n",
              "      <td>60</td>\n",
              "      <td>12</td>\n",
              "    </tr>\n",
              "    <tr>\n",
              "      <th>대구</th>\n",
              "      <td>70</td>\n",
              "      <td>5</td>\n",
              "      <td>64</td>\n",
              "      <td>23</td>\n",
              "    </tr>\n",
              "    <tr>\n",
              "      <th>대전</th>\n",
              "      <td>50</td>\n",
              "      <td>2</td>\n",
              "      <td>35</td>\n",
              "      <td>35</td>\n",
              "    </tr>\n",
              "    <tr>\n",
              "      <th>부산</th>\n",
              "      <td>120</td>\n",
              "      <td>13</td>\n",
              "      <td>113</td>\n",
              "      <td>15</td>\n",
              "    </tr>\n",
              "    <tr>\n",
              "      <th>서울</th>\n",
              "      <td>488</td>\n",
              "      <td>168</td>\n",
              "      <td>430</td>\n",
              "      <td>126</td>\n",
              "    </tr>\n",
              "    <tr>\n",
              "      <th>세종</th>\n",
              "      <td>10</td>\n",
              "      <td>0</td>\n",
              "      <td>18</td>\n",
              "      <td>5</td>\n",
              "    </tr>\n",
              "    <tr>\n",
              "      <th>울산</th>\n",
              "      <td>28</td>\n",
              "      <td>2</td>\n",
              "      <td>76</td>\n",
              "      <td>9</td>\n",
              "    </tr>\n",
              "    <tr>\n",
              "      <th>인천</th>\n",
              "      <td>63</td>\n",
              "      <td>9</td>\n",
              "      <td>126</td>\n",
              "      <td>52</td>\n",
              "    </tr>\n",
              "    <tr>\n",
              "      <th>전남</th>\n",
              "      <td>23</td>\n",
              "      <td>1</td>\n",
              "      <td>80</td>\n",
              "      <td>20</td>\n",
              "    </tr>\n",
              "    <tr>\n",
              "      <th>전북</th>\n",
              "      <td>26</td>\n",
              "      <td>1</td>\n",
              "      <td>66</td>\n",
              "      <td>20</td>\n",
              "    </tr>\n",
              "    <tr>\n",
              "      <th>제주</th>\n",
              "      <td>26</td>\n",
              "      <td>2</td>\n",
              "      <td>16</td>\n",
              "      <td>14</td>\n",
              "    </tr>\n",
              "    <tr>\n",
              "      <th>충남</th>\n",
              "      <td>42</td>\n",
              "      <td>2</td>\n",
              "      <td>69</td>\n",
              "      <td>30</td>\n",
              "    </tr>\n",
              "    <tr>\n",
              "      <th>충북</th>\n",
              "      <td>29</td>\n",
              "      <td>5</td>\n",
              "      <td>68</td>\n",
              "      <td>17</td>\n",
              "    </tr>\n",
              "  </tbody>\n",
              "</table>\n",
              "</div>"
            ],
            "text/plain": [
              "    스타벅스  커피빈  이디아  빽다방\n",
              "강원    40    2   88   12\n",
              "경기   353   56  564  175\n",
              "경남    64   10  126   23\n",
              "경북    57    7  100   20\n",
              "광주    56    5   60   12\n",
              "대구    70    5   64   23\n",
              "대전    50    2   35   35\n",
              "부산   120   13  113   15\n",
              "서울   488  168  430  126\n",
              "세종    10    0   18    5\n",
              "울산    28    2   76    9\n",
              "인천    63    9  126   52\n",
              "전남    23    1   80   20\n",
              "전북    26    1   66   20\n",
              "제주    26    2   16   14\n",
              "충남    42    2   69   30\n",
              "충북    29    5   68   17"
            ]
          },
          "metadata": {},
          "execution_count": 161
        }
      ]
    },
    {
      "cell_type": "code",
      "metadata": {
        "id": "T3rsi6IXGYeC"
      },
      "source": [
        ""
      ],
      "execution_count": null,
      "outputs": []
    }
  ]
}